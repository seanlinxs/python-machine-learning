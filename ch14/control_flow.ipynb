{
 "cells": [
  {
   "cell_type": "code",
   "execution_count": 1,
   "metadata": {},
   "outputs": [],
   "source": [
    "import tensorflow as tf"
   ]
  },
  {
   "cell_type": "code",
   "execution_count": 2,
   "metadata": {},
   "outputs": [],
   "source": [
    "x, y = 1.0, 2.0\n",
    "g = tf.Graph()"
   ]
  },
  {
   "cell_type": "code",
   "execution_count": null,
   "metadata": {},
   "outputs": [],
   "source": [
    "# this is wrong since tensorflow graph is static"
   ]
  },
  {
   "cell_type": "code",
   "execution_count": 3,
   "metadata": {},
   "outputs": [
    {
     "name": "stdout",
     "output_type": "stream",
     "text": [
      "Object: Tensor(\"result_add:0\", dtype=float32)\n"
     ]
    }
   ],
   "source": [
    "with g.as_default():\n",
    "    tf_x = tf.placeholder(dtype=tf.float32, shape=None, name='tf_x')\n",
    "    tf_y = tf.placeholder(dtype=tf.float32, shape=None, name='tf_y')\n",
    "    \n",
    "    if x < y:\n",
    "        res = tf.add(tf_x, tf_y, name='result_add')\n",
    "    else:\n",
    "        res = tf.subtract(tf_x, tf_y, name='result_sub')\n",
    "        \n",
    "    print('Object:', res)"
   ]
  },
  {
   "cell_type": "code",
   "execution_count": 4,
   "metadata": {},
   "outputs": [
    {
     "name": "stdout",
     "output_type": "stream",
     "text": [
      "x < y: True -> Result: 3.0\n",
      "x < y: False -> Result: 3.0\n"
     ]
    }
   ],
   "source": [
    "with tf.Session(graph=g) as sess:\n",
    "    print('x < y: %s -> Result:' % (x < y), res.eval(feed_dict={'tf_x:0': x, 'tf_y:0': y}))\n",
    "    x, y = 2.0, 1.0\n",
    "    print('x < y: %s -> Result:' % (x < y), res.eval(feed_dict={'tf_x:0': x, 'tf_y:0': y}))"
   ]
  },
  {
   "cell_type": "code",
   "execution_count": 5,
   "metadata": {},
   "outputs": [],
   "source": [
    "# this is the correct"
   ]
  },
  {
   "cell_type": "code",
   "execution_count": 7,
   "metadata": {},
   "outputs": [
    {
     "name": "stdout",
     "output_type": "stream",
     "text": [
      "Object: Tensor(\"cond/Merge:0\", dtype=float32)\n",
      "x < y: True -> Result: 3.0\n",
      "x < y: False -> Result: 1.0\n"
     ]
    }
   ],
   "source": [
    "x, y = 1.0, 2.0\n",
    "g = tf.Graph()\n",
    "with g.as_default():\n",
    "    tf_x = tf.placeholder(dtype=tf.float32, shape=None, name='tf_x')\n",
    "    tf_y = tf.placeholder(dtype=tf.float32, shape=None, name='tf_y')\n",
    "    res = tf.cond(tf_x < tf_y,\n",
    "                  lambda: tf.add(tf_x, tf_y, name='result_add'),\n",
    "                  lambda: tf.subtract(tf_x, tf_y, name='result_sub'))\n",
    "    print('Object:', res)\n",
    "with tf.Session(graph=g) as sess:\n",
    "    print('x < y: %s -> Result:' % (x < y),\n",
    "    res.eval(feed_dict={'tf_x:0': x,'tf_y:0': y}))\n",
    "    x, y = 2.0, 1.0\n",
    "    print('x < y: %s -> Result:' % (x < y), res.eval(feed_dict={'tf_x:0': x, 'tf_y:0': y}))"
   ]
  },
  {
   "cell_type": "code",
   "execution_count": null,
   "metadata": {},
   "outputs": [],
   "source": []
  }
 ],
 "metadata": {
  "kernelspec": {
   "display_name": "pyml",
   "language": "python",
   "name": "pyml"
  },
  "language_info": {
   "codemirror_mode": {
    "name": "ipython",
    "version": 3
   },
   "file_extension": ".py",
   "mimetype": "text/x-python",
   "name": "python",
   "nbconvert_exporter": "python",
   "pygments_lexer": "ipython3",
   "version": "3.7.3"
  }
 },
 "nbformat": 4,
 "nbformat_minor": 2
}
