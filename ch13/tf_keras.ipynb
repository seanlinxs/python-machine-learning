{
 "cells": [
  {
   "cell_type": "code",
   "execution_count": 1,
   "metadata": {},
   "outputs": [],
   "source": [
    "from shared.utils import load_mnist\n",
    "import numpy as np"
   ]
  },
  {
   "cell_type": "code",
   "execution_count": 2,
   "metadata": {},
   "outputs": [],
   "source": [
    "X_train, y_train = load_mnist('./mnist/', kind='train')"
   ]
  },
  {
   "cell_type": "code",
   "execution_count": 3,
   "metadata": {},
   "outputs": [],
   "source": [
    "X_test, y_test = load_mnist('./mnist/', kind='t10k')"
   ]
  },
  {
   "cell_type": "code",
   "execution_count": 4,
   "metadata": {},
   "outputs": [],
   "source": [
    "mean_vals = np.mean(X_train, axis=0)\n",
    "std_val = np.std(X_train)\n",
    "X_train_centered = (X_train - mean_vals) / std_val\n",
    "X_test_centered = (X_test - mean_vals) / std_val\n",
    "del X_train, X_test"
   ]
  },
  {
   "cell_type": "code",
   "execution_count": 5,
   "metadata": {},
   "outputs": [
    {
     "name": "stdout",
     "output_type": "stream",
     "text": [
      "(60000, 784) (60000,)\n",
      "(10000, 784) (10000,)\n"
     ]
    }
   ],
   "source": [
    "print(X_train_centered.shape, y_train.shape)\n",
    "print(X_test_centered.shape, y_test.shape)"
   ]
  },
  {
   "cell_type": "code",
   "execution_count": 7,
   "metadata": {},
   "outputs": [],
   "source": [
    "import tensorflow as tf\n",
    "import tensorflow.keras as keras"
   ]
  },
  {
   "cell_type": "code",
   "execution_count": 10,
   "metadata": {},
   "outputs": [],
   "source": [
    "random_seed = 123\n",
    "np.random.seed(random_seed)\n",
    "tf.set_random_seed(random_seed)"
   ]
  },
  {
   "cell_type": "code",
   "execution_count": 11,
   "metadata": {},
   "outputs": [
    {
     "name": "stdout",
     "output_type": "stream",
     "text": [
      "First 3 labels:  [5 0 4]\n",
      "First 3 labels (one-hot):\n",
      " [[0. 0. 0. 0. 0. 1. 0. 0. 0. 0.]\n",
      " [1. 0. 0. 0. 0. 0. 0. 0. 0. 0.]\n",
      " [0. 0. 0. 0. 1. 0. 0. 0. 0. 0.]]\n"
     ]
    }
   ],
   "source": [
    "y_train_onehot = keras.utils.to_categorical(y_train)\n",
    "print('First 3 labels: ', y_train[:3])\n",
    "print('First 3 labels (one-hot):\\n', y_train_onehot[:3])"
   ]
  },
  {
   "cell_type": "code",
   "execution_count": 12,
   "metadata": {},
   "outputs": [
    {
     "name": "stdout",
     "output_type": "stream",
     "text": [
      "WARNING:tensorflow:From /home/sean/miniconda3/envs/pyml/lib/python3.7/site-packages/tensorflow/python/ops/resource_variable_ops.py:435: colocate_with (from tensorflow.python.framework.ops) is deprecated and will be removed in a future version.\n",
      "Instructions for updating:\n",
      "Colocations handled automatically by placer.\n"
     ]
    }
   ],
   "source": [
    "model = keras.models.Sequential()\n",
    "model.add(keras.layers.Dense(units=50, input_dim=X_train_centered.shape[1], kernel_initializer='glorot_uniform', bias_initializer='zeros', activation='tanh'))\n",
    "model.add(keras.layers.Dense(units=50, input_dim=50, kernel_initializer='glorot_uniform', bias_initializer='zeros', activation='tanh'))\n",
    "model.add(keras.layers.Dense(units=y_train_onehot.shape[1], input_dim=50, kernel_initializer='glorot_uniform', bias_initializer='zeros', activation='softmax'))\n",
    "sgd_optimizer = keras.optimizers.SGD(lr=0.001, decay=1e-7, momentum=.9)\n",
    "model.compile(optimizer=sgd_optimizer, loss='categorical_crossentropy')"
   ]
  },
  {
   "cell_type": "code",
   "execution_count": 13,
   "metadata": {},
   "outputs": [
    {
     "name": "stdout",
     "output_type": "stream",
     "text": [
      "Train on 54000 samples, validate on 6000 samples\n",
      "WARNING:tensorflow:From /home/sean/miniconda3/envs/pyml/lib/python3.7/site-packages/tensorflow/python/ops/math_ops.py:3066: to_int32 (from tensorflow.python.ops.math_ops) is deprecated and will be removed in a future version.\n",
      "Instructions for updating:\n",
      "Use tf.cast instead.\n",
      "Epoch 1/50\n",
      "54000/54000 [==============================] - 3s 63us/sample - loss: 0.7422 - val_loss: 0.3736\n",
      "Epoch 2/50\n",
      "54000/54000 [==============================] - 3s 58us/sample - loss: 0.3781 - val_loss: 0.2805\n",
      "Epoch 3/50\n",
      "54000/54000 [==============================] - 3s 52us/sample - loss: 0.3109 - val_loss: 0.2411\n",
      "Epoch 4/50\n",
      "54000/54000 [==============================] - ETA: 0s - loss: 0.273 - 3s 50us/sample - loss: 0.2737 - val_loss: 0.2171\n",
      "Epoch 5/50\n",
      "54000/54000 [==============================] - 4s 67us/sample - loss: 0.2478 - val_loss: 0.1999\n",
      "Epoch 6/50\n",
      "54000/54000 [==============================] - 3s 46us/sample - loss: 0.2276 - val_loss: 0.1842\n",
      "Epoch 7/50\n",
      "54000/54000 [==============================] - 3s 59us/sample - loss: 0.2110 - val_loss: 0.1732\n",
      "Epoch 8/50\n",
      "54000/54000 [==============================] - 3s 56us/sample - loss: 0.1973 - val_loss: 0.1640\n",
      "Epoch 9/50\n",
      "54000/54000 [==============================] - 4s 70us/sample - loss: 0.1854 - val_loss: 0.1562\n",
      "Epoch 10/50\n",
      "54000/54000 [==============================] - 4s 67us/sample - loss: 0.1753 - val_loss: 0.1491\n",
      "Epoch 11/50\n",
      "54000/54000 [==============================] - 4s 68us/sample - loss: 0.1661 - val_loss: 0.1429\n",
      "Epoch 12/50\n",
      "54000/54000 [==============================] - 4s 73us/sample - loss: 0.1580 - val_loss: 0.1387\n",
      "Epoch 13/50\n",
      "54000/54000 [==============================] - 4s 81us/sample - loss: 0.1507 - val_loss: 0.1336\n",
      "Epoch 14/50\n",
      "54000/54000 [==============================] - 5s 90us/sample - loss: 0.1441 - val_loss: 0.1301\n",
      "Epoch 15/50\n",
      "54000/54000 [==============================] - 4s 72us/sample - loss: 0.1380 - val_loss: 0.1275\n",
      "Epoch 16/50\n",
      "54000/54000 [==============================] - 4s 79us/sample - loss: 0.1325 - val_loss: 0.1239\n",
      "Epoch 17/50\n",
      "54000/54000 [==============================] - 4s 73us/sample - loss: 0.1274 - val_loss: 0.1212\n",
      "Epoch 18/50\n",
      "54000/54000 [==============================] - 4s 80us/sample - loss: 0.1226 - val_loss: 0.1189\n",
      "Epoch 19/50\n",
      "54000/54000 [==============================] - 4s 83us/sample - loss: 0.1181 - val_loss: 0.1174\n",
      "Epoch 20/50\n",
      "54000/54000 [==============================] - 4s 71us/sample - loss: 0.1140 - val_loss: 0.1153\n",
      "Epoch 21/50\n",
      "54000/54000 [==============================] - 4s 79us/sample - loss: 0.1101 - val_loss: 0.1133\n",
      "Epoch 22/50\n",
      "54000/54000 [==============================] - 4s 80us/sample - loss: 0.1064 - val_loss: 0.1131\n",
      "Epoch 23/50\n",
      "54000/54000 [==============================] - 4s 76us/sample - loss: 0.1030 - val_loss: 0.1110\n",
      "Epoch 24/50\n",
      "54000/54000 [==============================] - 5s 90us/sample - loss: 0.0997 - val_loss: 0.1101\n",
      "Epoch 25/50\n",
      "54000/54000 [==============================] - 5s 93us/sample - loss: 0.0966 - val_loss: 0.1092\n",
      "Epoch 26/50\n",
      "54000/54000 [==============================] - 8s 151us/sample - loss: 0.0937 - val_loss: 0.1085\n",
      "Epoch 27/50\n",
      "54000/54000 [==============================] - 5s 92us/sample - loss: 0.0909 - val_loss: 0.1077\n",
      "Epoch 28/50\n",
      "54000/54000 [==============================] - 8s 144us/sample - loss: 0.0881 - val_loss: 0.1063\n",
      "Epoch 29/50\n",
      "54000/54000 [==============================] - 5s 84us/sample - loss: 0.0857 - val_loss: 0.1052\n",
      "Epoch 30/50\n",
      "54000/54000 [==============================] - 4s 76us/sample - loss: 0.0833 - val_loss: 0.1050\n",
      "Epoch 31/50\n",
      "54000/54000 [==============================] - 5s 95us/sample - loss: 0.0809 - val_loss: 0.1052\n",
      "Epoch 32/50\n",
      "54000/54000 [==============================] - 4s 81us/sample - loss: 0.0787 - val_loss: 0.1042\n",
      "Epoch 33/50\n",
      "54000/54000 [==============================] - 5s 93us/sample - loss: 0.0765 - val_loss: 0.1043\n",
      "Epoch 34/50\n",
      "54000/54000 [==============================] - 5s 89us/sample - loss: 0.0745 - val_loss: 0.1038\n",
      "Epoch 35/50\n",
      "54000/54000 [==============================] - 5s 86us/sample - loss: 0.0724 - val_loss: 0.1035\n",
      "Epoch 36/50\n",
      "54000/54000 [==============================] - 4s 81us/sample - loss: 0.0706 - val_loss: 0.1037\n",
      "Epoch 37/50\n",
      "54000/54000 [==============================] - 5s 85us/sample - loss: 0.0686 - val_loss: 0.1038\n",
      "Epoch 38/50\n",
      "54000/54000 [==============================] - 4s 80us/sample - loss: 0.0668 - val_loss: 0.1029\n",
      "Epoch 39/50\n",
      "54000/54000 [==============================] - 5s 97us/sample - loss: 0.0652 - val_loss: 0.1022\n",
      "Epoch 40/50\n",
      "54000/54000 [==============================] - 5s 97us/sample - loss: 0.0634 - val_loss: 0.1023\n",
      "Epoch 41/50\n",
      "54000/54000 [==============================] - 4s 80us/sample - loss: 0.0618 - val_loss: 0.1024\n",
      "Epoch 42/50\n",
      "54000/54000 [==============================] - 6s 112us/sample - loss: 0.0601 - val_loss: 0.1028\n",
      "Epoch 43/50\n",
      "54000/54000 [==============================] - 5s 93us/sample - loss: 0.0587 - val_loss: 0.1035\n",
      "Epoch 44/50\n",
      "54000/54000 [==============================] - 4s 81us/sample - loss: 0.0573 - val_loss: 0.1029\n",
      "Epoch 45/50\n",
      "54000/54000 [==============================] - 5s 91us/sample - loss: 0.0557 - val_loss: 0.1019\n",
      "Epoch 46/50\n",
      "54000/54000 [==============================] - 5s 101us/sample - loss: 0.0544 - val_loss: 0.1030\n",
      "Epoch 47/50\n",
      "54000/54000 [==============================] - 5s 95us/sample - loss: 0.0530 - val_loss: 0.1032\n",
      "Epoch 48/50\n",
      "54000/54000 [==============================] - 4s 79us/sample - loss: 0.0517 - val_loss: 0.1032\n",
      "Epoch 49/50\n",
      "54000/54000 [==============================] - 4s 82us/sample - loss: 0.0504 - val_loss: 0.1040\n",
      "Epoch 50/50\n",
      "54000/54000 [==============================] - 4s 83us/sample - loss: 0.0492 - val_loss: 0.1030\n"
     ]
    }
   ],
   "source": [
    "history = model.fit(X_train_centered, y_train_onehot, batch_size=64, epochs=50, verbose=1, validation_split=0.1)"
   ]
  },
  {
   "cell_type": "code",
   "execution_count": 15,
   "metadata": {},
   "outputs": [
    {
     "name": "stdout",
     "output_type": "stream",
     "text": [
      "First 3 predictions:  [5 0 4]\n",
      "Training accuracy: 98.81%\n"
     ]
    }
   ],
   "source": [
    "y_train_pred = model.predict_classes(X_train_centered, verbose=0)\n",
    "correct_preds = np.sum(y_train == y_train_pred, axis=0)\n",
    "train_acc = correct_preds / y_train.shape[0]\n",
    "print('First 3 predictions: ', y_train_pred[:3])\n",
    "print('Training accuracy: %.2f%%' % (train_acc * 100))"
   ]
  },
  {
   "cell_type": "code",
   "execution_count": 16,
   "metadata": {},
   "outputs": [
    {
     "name": "stdout",
     "output_type": "stream",
     "text": [
      "Test accuracy: 96.27%\n"
     ]
    }
   ],
   "source": [
    "y_test_pred = model.predict_classes(X_test_centered, verbose=0)\n",
    "correct_preds = np.sum(y_test == y_test_pred, axis=0)\n",
    "test_acc = correct_preds / y_test.shape[0]\n",
    "print('Test accuracy: %.2f%%' % (test_acc * 100))"
   ]
  },
  {
   "cell_type": "code",
   "execution_count": null,
   "metadata": {},
   "outputs": [],
   "source": []
  }
 ],
 "metadata": {
  "kernelspec": {
   "display_name": "pyml-conda",
   "language": "python",
   "name": "pyml-conda"
  },
  "language_info": {
   "codemirror_mode": {
    "name": "ipython",
    "version": 3
   },
   "file_extension": ".py",
   "mimetype": "text/x-python",
   "name": "python",
   "nbconvert_exporter": "python",
   "pygments_lexer": "ipython3",
   "version": "3.7.3"
  }
 },
 "nbformat": 4,
 "nbformat_minor": 2
}
