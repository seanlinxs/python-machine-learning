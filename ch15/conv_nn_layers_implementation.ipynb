{
 "cells": [
  {
   "cell_type": "code",
   "execution_count": 1,
   "metadata": {},
   "outputs": [],
   "source": [
    "from shared.utils import load_mnist\n",
    "import numpy as np"
   ]
  },
  {
   "cell_type": "code",
   "execution_count": 2,
   "metadata": {},
   "outputs": [],
   "source": [
    "X_data, y_data = load_mnist('./mnist/', kind='train')\n",
    "X_test, y_test = load_mnist('./mnist/', kind='t10k')\n",
    "X_train, y_train = X_data[:50000,:], y_data[:50000]\n",
    "X_valid, y_valid = X_data[50000:,:], y_data[50000:]"
   ]
  },
  {
   "cell_type": "code",
   "execution_count": 3,
   "metadata": {},
   "outputs": [],
   "source": [
    "mean_vals = np.mean(X_train, axis=0)\n",
    "std_val = np.std(X_train)\n",
    "X_train_centered = (X_train - mean_vals)/std_val\n",
    "X_valid_centered = (X_valid - mean_vals)/std_val\n",
    "X_test_centered = (X_test - mean_vals)/std_val"
   ]
  },
  {
   "cell_type": "code",
   "execution_count": 4,
   "metadata": {},
   "outputs": [],
   "source": [
    "from conv_nn import ConvNN"
   ]
  },
  {
   "cell_type": "code",
   "execution_count": 5,
   "metadata": {},
   "outputs": [
    {
     "name": "stdout",
     "output_type": "stream",
     "text": [
      "WARNING:tensorflow:From /home/sean/Projects/pyml/ch15/conv_nn.py:60: conv2d (from tensorflow.python.layers.convolutional) is deprecated and will be removed in a future version.\n",
      "Instructions for updating:\n",
      "Use keras.layers.conv2d instead.\n",
      "WARNING:tensorflow:From /home/sean/miniconda3/envs/pyml/lib/python3.7/site-packages/tensorflow/python/framework/op_def_library.py:263: colocate_with (from tensorflow.python.framework.ops) is deprecated and will be removed in a future version.\n",
      "Instructions for updating:\n",
      "Colocations handled automatically by placer.\n",
      "WARNING:tensorflow:From /home/sean/Projects/pyml/ch15/conv_nn.py:63: max_pooling2d (from tensorflow.python.layers.pooling) is deprecated and will be removed in a future version.\n",
      "Instructions for updating:\n",
      "Use keras.layers.max_pooling2d instead.\n",
      "WARNING:tensorflow:From /home/sean/Projects/pyml/ch15/conv_nn.py:76: dense (from tensorflow.python.layers.core) is deprecated and will be removed in a future version.\n",
      "Instructions for updating:\n",
      "Use keras.layers.dense instead.\n",
      "WARNING:tensorflow:From /home/sean/Projects/pyml/ch15/conv_nn.py:80: dropout (from tensorflow.python.layers.core) is deprecated and will be removed in a future version.\n",
      "Instructions for updating:\n",
      "Use keras.layers.dropout instead.\n",
      "WARNING:tensorflow:From /home/sean/miniconda3/envs/pyml/lib/python3.7/site-packages/tensorflow/python/keras/layers/core.py:143: calling dropout (from tensorflow.python.ops.nn_ops) with keep_prob is deprecated and will be removed in a future version.\n",
      "Instructions for updating:\n",
      "Please use `rate` instead of `keep_prob`. Rate should be set to `rate = 1 - keep_prob`.\n",
      "WARNING:tensorflow:From /home/sean/Projects/pyml/ch15/conv_nn.py:94: softmax_cross_entropy_with_logits (from tensorflow.python.ops.nn_ops) is deprecated and will be removed in a future version.\n",
      "Instructions for updating:\n",
      "\n",
      "Future major versions of TensorFlow will allow gradients to flow\n",
      "into the labels input on backprop by default.\n",
      "\n",
      "See `tf.nn.softmax_cross_entropy_with_logits_v2`.\n",
      "\n",
      "Epoch 01: Training Avg. Loss: 262.413 Validation Acc:   1.000\n",
      "Epoch 02: Training Avg. Loss:  73.577 Validation Acc:   0.938\n",
      "Epoch 03: Training Avg. Loss:  50.400 Validation Acc:   1.000\n",
      "Epoch 04: Training Avg. Loss:  39.199 Validation Acc:   1.000\n",
      "Epoch 05: Training Avg. Loss:  32.050 Validation Acc:   1.000\n",
      "Epoch 06: Training Avg. Loss:  27.296 Validation Acc:   1.000\n",
      "Epoch 07: Training Avg. Loss:  22.784 Validation Acc:   1.000\n",
      "Epoch 08: Training Avg. Loss:  19.396 Validation Acc:   1.000\n",
      "Epoch 09: Training Avg. Loss:  17.406 Validation Acc:   1.000\n",
      "Epoch 10: Training Avg. Loss:  15.402 Validation Acc:   1.000\n",
      "Epoch 11: Training Avg. Loss:  12.894 Validation Acc:   1.000\n",
      "Epoch 12: Training Avg. Loss:  11.091 Validation Acc:   1.000\n",
      "Epoch 13: Training Avg. Loss:  10.318 Validation Acc:   1.000\n",
      "Epoch 14: Training Avg. Loss:   8.277 Validation Acc:   1.000\n",
      "Epoch 15: Training Avg. Loss:   7.954 Validation Acc:   1.000\n",
      "Epoch 16: Training Avg. Loss:   7.103 Validation Acc:   1.000\n",
      "Epoch 17: Training Avg. Loss:   6.458 Validation Acc:   1.000\n",
      "Epoch 18: Training Avg. Loss:   5.401 Validation Acc:   1.000\n",
      "Epoch 19: Training Avg. Loss:   5.419 Validation Acc:   1.000\n",
      "Epoch 20: Training Avg. Loss:   4.654 Validation Acc:   1.000\n",
      "Time elapsed: 641.187\n",
      "Saving model in ./tflayers-model/\n"
     ]
    }
   ],
   "source": [
    "cnn = ConvNN(random_seed=123)\n",
    "cnn.train(training_set=(X_train_centered, y_train), validation_set=(X_valid_centered, y_valid), initialize=True)\n",
    "cnn.save(epoch=20)"
   ]
  },
  {
   "cell_type": "code",
   "execution_count": 6,
   "metadata": {},
   "outputs": [],
   "source": [
    "del cnn"
   ]
  },
  {
   "cell_type": "code",
   "execution_count": 7,
   "metadata": {},
   "outputs": [
    {
     "name": "stdout",
     "output_type": "stream",
     "text": [
      "Loading model from ./tflayers-model/\n",
      "WARNING:tensorflow:From /home/sean/miniconda3/envs/pyml/lib/python3.7/site-packages/tensorflow/python/training/saver.py:1266: checkpoint_exists (from tensorflow.python.training.checkpoint_management) is deprecated and will be removed in a future version.\n",
      "Instructions for updating:\n",
      "Use standard file APIs to check for files with this prefix.\n",
      "INFO:tensorflow:Restoring parameters from ./tflayers-model/model.ckpt-20\n"
     ]
    }
   ],
   "source": [
    "cnn2 = ConvNN(random_seed=123)\n",
    "cnn2.load(epoch=20, path='./tflayers-model/')"
   ]
  },
  {
   "cell_type": "code",
   "execution_count": 8,
   "metadata": {},
   "outputs": [
    {
     "name": "stdout",
     "output_type": "stream",
     "text": [
      "[7 2 1 0 4 1 4 9 5 9]\n"
     ]
    }
   ],
   "source": [
    "print(cnn2.predict(X_test_centered[:10, :]))"
   ]
  }
 ],
 "metadata": {
  "kernelspec": {
   "display_name": "pyml",
   "language": "python",
   "name": "pyml"
  },
  "language_info": {
   "codemirror_mode": {
    "name": "ipython",
    "version": 3
   },
   "file_extension": ".py",
   "mimetype": "text/x-python",
   "name": "python",
   "nbconvert_exporter": "python",
   "pygments_lexer": "ipython3",
   "version": "3.7.3"
  }
 },
 "nbformat": 4,
 "nbformat_minor": 2
}
